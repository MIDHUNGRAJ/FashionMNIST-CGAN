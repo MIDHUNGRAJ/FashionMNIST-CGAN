{
 "cells": [
  {
   "cell_type": "code",
   "execution_count": null,
   "metadata": {},
   "outputs": [],
   "source": [
    "import torch\n",
    "from model_pq import Generator , Discriminator, plot_images\n",
    "from torchvision import datasets, transforms\n",
    "from torch.utils.data import DataLoader"
   ]
  },
  {
   "cell_type": "code",
   "execution_count": null,
   "metadata": {},
   "outputs": [],
   "source": [
    "torch.manual_seed(1)"
   ]
  },
  {
   "cell_type": "code",
   "execution_count": null,
   "metadata": {},
   "outputs": [],
   "source": [
    "device = \"cuda\" if torch.cuda.is_available() else \"cpu\""
   ]
  },
  {
   "cell_type": "code",
   "execution_count": null,
   "metadata": {},
   "outputs": [],
   "source": [
    "transformer = transforms.Compose([\n",
    "    transforms.Resize(64),\n",
    "    transforms.ToTensor(),\n",
    "    transforms.Normalize((0.5,), (0.5,))\n",
    "])\n",
    "\n",
    "train_data = datasets.FashionMNIST(root=\".\", download=True, train=True, transform=transformer)\n",
    "train_dataloader = DataLoader(dataset=train_data, batch_size=64, shuffle=True, num_workers=4)"
   ]
  },
  {
   "cell_type": "code",
   "execution_count": null,
   "metadata": {},
   "outputs": [],
   "source": [
    "gen = Generator().to(device)\n",
    "disc = Discriminator().to(device)"
   ]
  },
  {
   "cell_type": "code",
   "execution_count": null,
   "metadata": {},
   "outputs": [],
   "source": [
    "gen.load_state_dict(torch.load('generator_param.pth')) \n",
    "disc.load_state_dict(torch.load('discriminator_param.pth'))"
   ]
  },
  {
   "cell_type": "code",
   "execution_count": null,
   "metadata": {},
   "outputs": [],
   "source": [
    "n_inter = 10\n",
    "\n",
    "def generate_latent(latent_dim, sample_dim):\n",
    "\n",
    "    z_noise = torch.randn(sample_dim , latent_dim)\n",
    "\n",
    "    return z_noise\n",
    "\n",
    "def interpolate_points(p1, p2, n_inter=n_inter):\n",
    "\n",
    "    ratios = torch.linspace(0, 1, steps=n_inter).reshape(-1, 1)\n",
    "    \n",
    "    vector = p1 * (1 - ratios) + ratios * p2\n",
    "    \n",
    "    return vector\n",
    "\n",
    "\n",
    "s_g = generate_latent(100, 2)\n",
    "\n",
    "interpolated = interpolate_points(s_g[0], s_g[1])\n",
    "\n",
    "interpolated = interpolated.to(device)\n",
    "\n",
    "for i in range(3):\n",
    "    labels = torch.ones(n_inter) * i\n",
    "    labels = labels.to(device)\n",
    "    labels = labels.unsqueeze(1).long()\n",
    "\n",
    "    prediction = gen((interpolated, labels))\n",
    "    pred = prediction.detach().cpu()\n",
    "\n",
    "    plot_images(pred, train_data.classes[i]) \n",
    "    "
   ]
  }
 ],
 "metadata": {
  "kernelspec": {
   "display_name": "neuro_byte",
   "language": "python",
   "name": "python3"
  },
  "language_info": {
   "codemirror_mode": {
    "name": "ipython",
    "version": 3
   },
   "file_extension": ".py",
   "mimetype": "text/x-python",
   "name": "python",
   "nbconvert_exporter": "python",
   "pygments_lexer": "ipython3",
   "version": "3.10.13"
  }
 },
 "nbformat": 4,
 "nbformat_minor": 2
}
