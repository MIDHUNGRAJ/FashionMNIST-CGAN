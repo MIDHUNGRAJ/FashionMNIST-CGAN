{
 "cells": [
  {
   "cell_type": "code",
   "execution_count": 1,
   "metadata": {},
   "outputs": [],
   "source": [
    "import torch\n",
    "import torch.nn as nn\n",
    "import torchvision\n",
    "from torchvision import datasets, transforms\n",
    "from torchvision.utils import make_grid\n",
    "from torch.utils.data import DataLoader\n",
    "from torch.utils.tensorboard import SummaryWriter\n",
    "import matplotlib.pyplot as plt"
   ]
  },
  {
   "cell_type": "code",
   "execution_count": 2,
   "metadata": {},
   "outputs": [
    {
     "data": {
      "text/plain": [
       "<torch._C.Generator at 0x208847d6b10>"
      ]
     },
     "execution_count": 2,
     "metadata": {},
     "output_type": "execute_result"
    }
   ],
   "source": [
    "torch.manual_seed(1)"
   ]
  },
  {
   "cell_type": "code",
   "execution_count": 5,
   "metadata": {},
   "outputs": [
    {
     "data": {
      "text/plain": [
       "'cuda'"
      ]
     },
     "execution_count": 5,
     "metadata": {},
     "output_type": "execute_result"
    }
   ],
   "source": [
    "transformer = transforms.Compose([\n",
    "    transforms.Resize(64),\n",
    "    transforms.ToTensor(),\n",
    "    transforms.Normalize((0.5,), (0.5,))\n",
    "])\n",
    "\n",
    "train_data = datasets.FashionMNIST(root=\".\", download=True, train=True, transform=transformer)\n",
    "train_dataloader = DataLoader(dataset=train_data, batch_size=64, shuffle=True, num_workers=4)\n",
    "\n",
    "device = \"cuda\" if torch.cuda.is_available() else \"cpu\"\n",
    "device"
   ]
  },
  {
   "cell_type": "code",
   "execution_count": 4,
   "metadata": {},
   "outputs": [
    {
     "name": "stdout",
     "output_type": "stream",
     "text": [
      "Batch Image Shape: torch.Size([64, 1, 64, 64])\n",
      "Batch Label Shape: torch.Size([64])\n"
     ]
    }
   ],
   "source": [
    "for batch_images, batch_labels in train_dataloader:\n",
    "    print(\"Batch Image Shape:\", batch_images.shape)\n",
    "    print(\"Batch Label Shape:\", batch_labels.shape)\n",
    "    break  # Only print the shape of the first batch\n"
   ]
  },
  {
   "cell_type": "code",
   "execution_count": null,
   "metadata": {},
   "outputs": [],
   "source": [
    "class Generator(nn.Module):\n",
    "    def __init__(self):\n",
    "        super().__init__()\n",
    "\n",
    "        self.label_conditioned = nn.Sequential(\n",
    "            nn.Embedding(10,100),\n",
    "            nn.Linear(100, 2*2)\n",
    "        )\n",
    "\n",
    "        self.latent = nn.Sequential(\n",
    "            nn.Linear(100, 256*2*2)\n",
    "        )\n",
    "\n",
    "        self.model = nn.Sequential(\n",
    "            nn.ConvTranspose2d(257, 64*8,kernel_size=4, stride=2, padding=1, bias=False),\n",
    "            nn.BatchNorm2d(64*8),\n",
    "            nn.ReLU(),\n",
    "            nn.ConvTranspose2d(64*8, 64*4,kernel_size=4, stride=2, padding=1, bias=False),\n",
    "            nn.BatchNorm2d(64*4),\n",
    "            nn.ReLU(),\n",
    "            nn.ConvTranspose2d(64*4, 64*2,kernel_size=4, stride=2, padding=1, bias=False),\n",
    "            nn.BatchNorm2d(64*2),\n",
    "            nn.ReLU(),\n",
    "            nn.ConvTranspose2d(64*2, 64*1,kernel_size=4, stride=2, padding=1, bias=False),\n",
    "            nn.BatchNorm2d(64*1),\n",
    "            nn.ReLU(),\n",
    "            nn.ConvTranspose2d(64*1, 1,kernel_size=4, stride=2, padding=1, bias=False),\n",
    "            nn.Tanh(),\n",
    "        \n",
    "        )\n",
    "    \n",
    "    def forward(self, input):\n",
    "        noise, label = input\n",
    "        label_output = self.label_conditioned(label)\n",
    "        label_output = label_output.view(-1,1,2,2)\n",
    "\n",
    "        latent_output = self.latent(noise)\n",
    "        latent_output = latent_output.view(-1,256,2,2)\n",
    "\n",
    "        concat = torch.cat((label_output, latent_output), 1) \n",
    "        \n",
    "        return self.model(concat)\n",
    "    \n"
   ]
  },
  {
   "cell_type": "code",
   "execution_count": null,
   "metadata": {},
   "outputs": [],
   "source": [
    "gen = Generator().to(device)"
   ]
  },
  {
   "cell_type": "code",
   "execution_count": null,
   "metadata": {},
   "outputs": [],
   "source": [
    "class Discriminator(nn.Module):\n",
    "    def __init__(self):\n",
    "        super(Discriminator, self).__init__()\n",
    "        \n",
    "        self.label_condition = nn.Sequential(\n",
    "            nn.Embedding(10, 100),\n",
    "            nn.Linear(100, 1*64*64)\n",
    "        )\n",
    "             \n",
    "        self.model = nn.Sequential(nn.Conv2d(2, 32, 4, 2, 1, bias=False),\n",
    "                      nn.LeakyReLU(0.2, inplace=True),\n",
    "                      nn.Conv2d(32, 64, 4, 3, 2, bias=False),\n",
    "                      nn.BatchNorm2d(64, momentum=0.1,  eps=0.8),\n",
    "                      nn.LeakyReLU(0.2, inplace=True),\n",
    "                      nn.Conv2d(64, 64*2, 4, 3, 2, bias=False),\n",
    "                      nn.BatchNorm2d(64*2, momentum=0.1,  eps=0.8),\n",
    "                      nn.LeakyReLU(0.2, inplace=True),\n",
    "                      nn.Conv2d(64*2, 64*4, 4, 3, 2, bias=False),\n",
    "                      nn.BatchNorm2d(64*4, momentum=0.1,  eps=0.8),\n",
    "                      nn.LeakyReLU(0.2, inplace=True),\n",
    "                      nn.Conv2d(64*4, 64*8, 4, 3, 2, bias=False),\n",
    "                      nn.BatchNorm2d(64*8, momentum=0.1, eps=0.8),\n",
    "                      nn.LeakyReLU(0.2, inplace=True), \n",
    "                      nn.Flatten(),\n",
    "                      nn.Dropout(0.4),\n",
    "                      nn.Linear(512, 1),\n",
    "                      nn.Sigmoid()\n",
    "                     )\n",
    "    \n",
    "    def forward(self, input):\n",
    "        img, label = input\n",
    "        label_output = self.label_condition(label)\n",
    "\n",
    "        label_output = label_output.view(-1,1,64,64)\n",
    "        concat = torch.cat((img, label_output), dim=1)\n",
    "        return self.model(concat)"
   ]
  },
  {
   "cell_type": "code",
   "execution_count": null,
   "metadata": {},
   "outputs": [],
   "source": [
    "disc = Discriminator().to(device)"
   ]
  },
  {
   "cell_type": "code",
   "execution_count": null,
   "metadata": {},
   "outputs": [],
   "source": [
    "def plot_images(image, title=None, nrow=5):\n",
    "    img_show_fake = make_grid(image[:40], normalize=True, nrow=nrow)\n",
    "\n",
    "    img_show_fake = img_show_fake.detach().cpu().permute(1, 2, 0).numpy()\n",
    "\n",
    "    plt.imshow(img_show_fake)\n",
    "    plt.title(title)\n",
    "    plt.axis(\"off\")\n",
    "    plt.show()"
   ]
  },
  {
   "cell_type": "code",
   "execution_count": null,
   "metadata": {},
   "outputs": [],
   "source": [
    "loss_fn = nn.BCELoss()\n",
    "\n",
    "learning_rate = 0.0002 \n",
    "\n",
    "gen_opt = torch.optim.Adam(gen.parameters(), lr = learning_rate, betas=(0.5, 0.999))\n",
    "disc_opt = torch.optim.Adam(disc.parameters(), lr = learning_rate, betas=(0.5, 0.999))"
   ]
  },
  {
   "cell_type": "code",
   "execution_count": null,
   "metadata": {},
   "outputs": [],
   "source": [
    "from tqdm.notebook import tqdm\n",
    "\n",
    "generator_losses = []\n",
    "discriminator_losses = []\n",
    "epochs = 5\n",
    "\n",
    "writer_real = SummaryWriter(f\"tboard/real\")\n",
    "writer_fake = SummaryWriter(f\"tboard/fake\")\n",
    "\n",
    "step = 0\n",
    "\n",
    "for epoch in range(1, epochs+1):\n",
    "\n",
    "    for index, (real, labels) in tqdm(enumerate(train_dataloader), total=len(train_dataloader)):\n",
    "        batch_size = len(real)\n",
    "\n",
    "        # real image shape: [64 x 1 x 64 x 64]\n",
    "        real = real.to(device)\n",
    "        labels = labels.to(device)\n",
    "        labels = labels.unsqueeze(1).long()\n",
    "        # labels shape: [64 x 1]\n",
    "\n",
    "        disc_opt.zero_grad()\n",
    "\n",
    "        random_noise = torch.randn(batch_size, 100).to(device)\n",
    "        # random noise shape: [64 x 100]\n",
    "\n",
    "        fake = gen((random_noise, labels))\n",
    "        # fake image output shape: [64 x 1 x 64 x 64]\n",
    "\n",
    "        fake_image_pred = disc((fake.detach(), labels))\n",
    "        # fake prediction shape [64 x 1]\n",
    "\n",
    "        real_image_pred = disc((real, labels))\n",
    "        # real prediction shape [64 x 1]\n",
    "\n",
    "        real_target = torch.ones(real.size(0), 1).to(device)\n",
    "        fake_target = torch.zeros(real.size(0), 1).to(device)\n",
    "\n",
    "        disc_real_loss = loss_fn(real_image_pred, real_target)\n",
    "        disc_fake_loss = loss_fn(fake_image_pred, fake_target)\n",
    "        disc_loss = (disc_fake_loss + disc_real_loss) / 2\n",
    "        disc_loss.backward(retain_graph=True)\n",
    "        disc_opt.step()\n",
    "\n",
    "        discriminator_losses += [disc_loss.item()]\n",
    "\n",
    "        gen_opt.zero_grad()\n",
    "\n",
    "\n",
    "        gen_loss = loss_fn(disc((fake, labels)), real_target)\n",
    "        gen_loss.backward()\n",
    "        gen_opt.step()\n",
    "\n",
    "        generator_losses += [gen_loss.item()]\n",
    "\n",
    "        if index %  100 == 0:\n",
    "            step +=1\n",
    "\n",
    "            grid_real = torchvision.utils.make_grid(real[:60], nrow=15,  normalize=True)\n",
    "            grid_fake = torchvision.utils.make_grid(fake[:60], nrow=15, normalize=True)\n",
    "            \n",
    "            # print(f\"Step {step}, Generator Loss: {gen_loss.item()}, Discriminator Loss: {disc_loss.item()}\")\n",
    "            writer_real.add_image(\n",
    "                \"Real images\", grid_real, global_step=step, dataformats='CHW'\n",
    "            )\n",
    "\n",
    "            writer_fake.add_image(\n",
    "                \"Generated images\", grid_fake, global_step=step, dataformats='CHW'\n",
    "            )\n",
    "\n",
    "# torch.save(gen.state_dict(), 'generator_param.pth')  \n",
    "# torch.save(disc.state_dict(), 'discriminator_param.pth')"
   ]
  },
  {
   "cell_type": "code",
   "execution_count": null,
   "metadata": {},
   "outputs": [],
   "source": [
    "# gen.load_state_dict(torch.load('generator_param.pth')) \n",
    "# disc.load_state_dict(torch.load('discriminator_param.pth'))"
   ]
  },
  {
   "cell_type": "code",
   "execution_count": null,
   "metadata": {},
   "outputs": [],
   "source": [
    "n_inter = 10\n",
    "\n",
    "def generate_latent(latent_dim, sample_dim):\n",
    "\n",
    "    z_noise = torch.randn(sample_dim , latent_dim)\n",
    "\n",
    "    return z_noise\n",
    "\n",
    "def interpolate_points(p1, p2, n_inter=n_inter):\n",
    "\n",
    "    ratios = torch.linspace(0, 1, steps=n_inter).reshape(-1, 1)\n",
    "    \n",
    "    vector = p1 * (1 - ratios) + ratios * p2\n",
    "    \n",
    "    return vector\n",
    "\n",
    "\n",
    "s_g = generate_latent(100, 2)\n",
    "\n",
    "interpolated = interpolate_points(s_g[0], s_g[1])\n",
    "\n",
    "interpolated = interpolated.to(device)\n",
    "\n",
    "for i in range(3):\n",
    "    labels = torch.ones(n_inter) * i\n",
    "    labels = labels.to(device)\n",
    "    labels = labels.unsqueeze(1).long()\n",
    "\n",
    "    prediction = gen((interpolated, labels))\n",
    "    pred = prediction.detach().cpu()\n",
    "\n",
    "    plot_images(pred, train_data.classes[i]) \n",
    "    "
   ]
  },
  {
   "cell_type": "code",
   "execution_count": null,
   "metadata": {},
   "outputs": [],
   "source": []
  }
 ],
 "metadata": {
  "kernelspec": {
   "display_name": "ml_eng",
   "language": "python",
   "name": "python3"
  },
  "language_info": {
   "codemirror_mode": {
    "name": "ipython",
    "version": 3
   },
   "file_extension": ".py",
   "mimetype": "text/x-python",
   "name": "python",
   "nbconvert_exporter": "python",
   "pygments_lexer": "ipython3",
   "version": "3.10.13"
  }
 },
 "nbformat": 4,
 "nbformat_minor": 2
}
